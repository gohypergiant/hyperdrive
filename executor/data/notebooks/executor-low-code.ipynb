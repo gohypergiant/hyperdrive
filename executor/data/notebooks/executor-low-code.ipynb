{
 "cells": [
  {
   "cell_type": "code",
   "execution_count": null,
   "id": "024e1bb5-2246-4711-b934-7a330aa7eba6",
   "metadata": {
    "tags": [
     "parameters"
    ]
   },
   "outputs": [],
   "source": [
    "features = \"/home/jovyan/data/features_dummy.json\"\n",
    "target = \"/home/jovyan/data/target_dummy.json\"\n",
    "job_name = \"\"\n",
    "study_yaml = \"\""
   ]
  },
  {
   "cell_type": "code",
   "execution_count": null,
   "id": "ee4dcf39-f8dc-44fe-8854-35a86b179f19",
   "metadata": {},
   "outputs": [],
   "source": [
    "import pandas as pd\n",
    "import yaml\n",
    "from sklearn.preprocessing import LabelEncoder\n",
    "from hddataclient import DataRepo"
   ]
  },
  {
   "cell_type": "markdown",
   "id": "4fe0a3f5-2d84-464f-8dc4-48f1bad6a604",
   "metadata": {},
   "source": [
    "#### Load yaml"
   ]
  },
  {
   "cell_type": "code",
   "execution_count": null,
   "id": "f003e6bb-a390-41ae-bd0b-3815ada0e99d",
   "metadata": {},
   "outputs": [],
   "source": [
    "with open(study_yaml) as fh:\n",
    "    my_study_yaml = yaml.safe_load(fh)"
   ]
  },
  {
   "cell_type": "markdown",
   "id": "cbd611b7-9e31-49e6-ba7f-bb50489b15a8",
   "metadata": {
    "tags": []
   },
   "source": [
    "#### Load data - set to pandas DataFrame"
   ]
  },
  {
   "cell_type": "code",
   "execution_count": null,
   "id": "1908c428-6508-46b1-a73c-1ee9ee798255",
   "metadata": {},
   "outputs": [],
   "source": [
    "datarepo = DataRepo(\n",
    "    description=\"Study as Data Repo\",\n",
    "    volume_name=f\"/home/jovyan/_jobs/{job_name}/\",\n",
    ")"
   ]
  },
  {
   "cell_type": "code",
   "execution_count": null,
   "id": "35773e94-2ef3-4726-a1cf-b40011c15171",
   "metadata": {},
   "outputs": [],
   "source": [
    "X_df = datarepo.load_dataset(features)\n",
    "y_df = datarepo.load_dataset(target)"
   ]
  },
  {
   "cell_type": "code",
   "execution_count": null,
   "id": "3462acca-d205-4e57-8c9b-c5063a14fa69",
   "metadata": {},
   "outputs": [],
   "source": [
    "X = X_df.set_index(\"_id\")"
   ]
  },
  {
   "cell_type": "code",
   "execution_count": null,
   "id": "ed549ef8-bfd7-4b11-97c7-17da83584a6c",
   "metadata": {},
   "outputs": [],
   "source": [
    "response_variable = my_study_yaml[\"training\"][\"data\"][\"target\"][\"response_variable\"]\n",
    "y_resp = y_df[response_variable]\n",
    "le = LabelEncoder()\n",
    "y = pd.DataFrame(le.fit_transform(y_resp), index=X.index)"
   ]
  },
  {
   "cell_type": "code",
   "execution_count": null,
   "id": "a21bc315-1be9-458e-bfa3-f555cf866185",
   "metadata": {
    "tags": []
   },
   "outputs": [],
   "source": [
    "from hypertrain.controllers.hyperparameter_study import HyperparameterStudyController as hec"
   ]
  },
  {
   "cell_type": "markdown",
   "id": "fa923158",
   "metadata": {},
   "source": [
    "#### Create study"
   ]
  },
  {
   "cell_type": "code",
   "execution_count": null,
   "id": "5131baea-a834-451d-86ee-917065417d9a",
   "metadata": {},
   "outputs": [],
   "source": [
    "hyp_study_rf_nested = hec.create_hyperparameter_study(study_yaml, X, y, study_path=job_name)"
   ]
  },
  {
   "cell_type": "markdown",
   "id": "a651c5df",
   "metadata": {},
   "source": [
    "#### Run Hyperparameter search"
   ]
  },
  {
   "cell_type": "code",
   "execution_count": null,
   "id": "4e83f699-446f-491a-be11-a267257fcc67",
   "metadata": {},
   "outputs": [],
   "source": [
    "hyp_study_rf_nested.run_hyperparameter_search()"
   ]
  }
 ],
 "metadata": {
  "kernelspec": {
   "display_name": "Python 3 (ipykernel)",
   "language": "python",
   "name": "python3"
  },
  "language_info": {
   "codemirror_mode": {
    "name": "ipython",
    "version": 3
   },
   "file_extension": ".py",
   "mimetype": "text/x-python",
   "name": "python",
   "nbconvert_exporter": "python",
   "pygments_lexer": "ipython3",
   "version": "3.9.10"
  }
 },
 "nbformat": 4,
 "nbformat_minor": 5
}
