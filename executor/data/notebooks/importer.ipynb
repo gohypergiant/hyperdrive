{
 "cells": [
  {
   "cell_type": "code",
   "execution_count": null,
   "id": "dc749d6f-7210-4d20-9e7f-ca07bd45474b",
   "metadata": {
    "tags": [
     "parameters"
    ]
   },
   "outputs": [],
   "source": [
    "filename = \"\"\n",
    "flavor = \"sklearn\"\n",
    "shape = 0"
   ]
  },
  {
   "cell_type": "code",
   "execution_count": null,
   "id": "0ca10e43-c953-4331-9625-f301dedd4bec",
   "metadata": {},
   "outputs": [],
   "source": [
    "from hypertrain.controllers.import_model import import_trained_model"
   ]
  },
  {
   "cell_type": "code",
   "execution_count": null,
   "id": "f65d7b93-c281-44dd-b3ae-de1a1cab6dfb",
   "metadata": {},
   "outputs": [],
   "source": [
    "import_trained_model(filename=filename, flavor=flavor, shape=shape)"
   ]
  }
 ],
 "metadata": {
  "kernelspec": {
   "display_name": "Python 3 (ipykernel)",
   "language": "python",
   "name": "python3"
  },
  "language_info": {
   "codemirror_mode": {
    "name": "ipython",
    "version": 3
   },
   "file_extension": ".py",
   "mimetype": "text/x-python",
   "name": "python",
   "nbconvert_exporter": "python",
   "pygments_lexer": "ipython3",
   "version": "3.9.5"
  }
 },
 "nbformat": 4,
 "nbformat_minor": 5
}
