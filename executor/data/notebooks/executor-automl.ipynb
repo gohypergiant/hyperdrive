{
 "cells": [
  {
   "cell_type": "code",
   "execution_count": null,
   "id": "020ed1b8-f117-4891-b640-e6960a8170c4",
   "metadata": {},
   "outputs": [],
   "source": [
    "#!pip install pickledb==0.9.2 torch==1.10.2 torchcontrib==0.0.2"
   ]
  },
  {
   "cell_type": "code",
   "execution_count": null,
   "id": "024e1bb5-2246-4711-b934-7a330aa7eba6",
   "metadata": {
    "tags": [
     "parameters"
    ]
   },
   "outputs": [],
   "source": [
    "features = \"/home/jovyan/data/features.json\"\n",
    "target = \"/home/jovyan/data/target.json\"\n",
    "job_name = \"\"\n",
    "study_yaml = None"
   ]
  },
  {
   "cell_type": "code",
   "execution_count": null,
   "id": "73bb7da8-7f19-4eef-bb8a-3b9f3e6952ba",
   "metadata": {},
   "outputs": [],
   "source": [
    "import pandas as pd\n",
    "import yaml\n",
    "from sklearn.preprocessing import LabelEncoder\n",
    "\n",
    "import neural_network.n_network as nn\n",
    "from hddataclient import DataRepo"
   ]
  },
  {
   "cell_type": "markdown",
   "id": "4ebec16d-3b90-40c2-9b37-2dccf7a16c28",
   "metadata": {},
   "source": [
    "#### Load yaml"
   ]
  },
  {
   "cell_type": "code",
   "execution_count": null,
   "id": "62f79222-9222-4e83-a5ed-41efa04614d2",
   "metadata": {},
   "outputs": [],
   "source": [
    "with open(study_yaml) as fh:\n",
    "    my_study_yaml = yaml.safe_load(fh)"
   ]
  },
  {
   "cell_type": "markdown",
   "id": "cbd611b7-9e31-49e6-ba7f-bb50489b15a8",
   "metadata": {
    "tags": []
   },
   "source": [
    "#### Load data - set to pandas DataFrame"
   ]
  },
  {
   "cell_type": "code",
   "execution_count": null,
   "id": "7aa713ec-142b-400c-98e5-ee6477d1e5d7",
   "metadata": {},
   "outputs": [],
   "source": [
    "datarepo = DataRepo(\n",
    "    description=\"Study as Data Repo\",\n",
    "    volume_name=f\"/home/jovyan/_jobs/{job_name}/\",\n",
    ")"
   ]
  },
  {
   "cell_type": "code",
   "execution_count": null,
   "id": "35773e94-2ef3-4726-a1cf-b40011c15171",
   "metadata": {},
   "outputs": [],
   "source": [
    "X_df = datarepo.load_dataset(features)\n",
    "y_df = datarepo.load_dataset(target)"
   ]
  },
  {
   "cell_type": "code",
   "execution_count": null,
   "id": "9e07e587-64c4-43b8-9b7f-d971ba202022",
   "metadata": {},
   "outputs": [],
   "source": [
    "drop_cols = list(X_df.dtypes.index[X_df.dtypes == \"object\"])\n",
    "X = X_df.drop(drop_cols, axis=1)"
   ]
  },
  {
   "cell_type": "code",
   "execution_count": null,
   "id": "c0e44948-2783-4bdf-a9a4-2dfefe6cde47",
   "metadata": {},
   "outputs": [],
   "source": [
    "response_variable = my_study_yaml[\"training\"][\"data\"][\"target\"][\"response_variable\"]\n",
    "y_resp = y_df[response_variable]\n",
    "le = LabelEncoder()\n",
    "y = pd.DataFrame(le.fit_transform(y_resp))"
   ]
  },
  {
   "cell_type": "markdown",
   "id": "74c0d1ac-e4ec-429b-91b7-a36c790a61db",
   "metadata": {
    "tags": []
   },
   "source": [
    "#### Default neural network hyperparams"
   ]
  },
  {
   "cell_type": "code",
   "execution_count": null,
   "id": "4b3763fd-0b54-4a99-8d0f-63d419f62cba",
   "metadata": {},
   "outputs": [],
   "source": [
    "hyper_param = {\n",
    "    \"learning_rate\": (1e-4, 1e-2),\n",
    "    \"bach_norm\": [True, False],\n",
    "    \"weight_decay\": [0, 0.00001, 0.00005, 0.00009, 0.0001, 0.0005, 0.0009, 0.001,\n",
    "                     0.005, 0.009, 0.01, 0.05, 0.09,0.1, 0.5, 0.9],\n",
    "    \"snapshot_ensemble\": [False],\n",
    "    \"drop_out\": (0, 0.9)\n",
    "}"
   ]
  },
  {
   "cell_type": "markdown",
   "id": "9228ce5e-618b-44f7-9e89-2d348b9bb2e6",
   "metadata": {},
   "source": [
    "#### Build model object"
   ]
  },
  {
   "cell_type": "code",
   "execution_count": null,
   "id": "47d64dae-03c1-4885-adcf-1bc4ba396109",
   "metadata": {},
   "outputs": [],
   "source": [
    "model = nn.NeuralNetwork(\n",
    "    hyper_param=hyper_param,\n",
    "    trials=3,\n",
    "    n_jobs=-1,\n",
    "    regression=False,\n",
    "    epochs=20\n",
    ")"
   ]
  },
  {
   "cell_type": "markdown",
   "id": "a39231c2-6246-4acc-bac3-a48fff276769",
   "metadata": {},
   "source": [
    "#### Fit model"
   ]
  },
  {
   "cell_type": "code",
   "execution_count": null,
   "id": "c05a5d29-b098-483f-8d2a-9941cf26df60",
   "metadata": {},
   "outputs": [],
   "source": [
    "output = model.fit(x=X, y=y)"
   ]
  },
  {
   "cell_type": "markdown",
   "id": "a80198de-35b5-436b-ab4a-06cf4369ddaa",
   "metadata": {},
   "source": [
    "#### Look at model outputs"
   ]
  },
  {
   "cell_type": "code",
   "execution_count": null,
   "id": "599ad3df-049d-4b5b-b6e0-d30fa42cadd3",
   "metadata": {},
   "outputs": [],
   "source": [
    "output.keys()"
   ]
  },
  {
   "cell_type": "markdown",
   "id": "8bd0e084-b30a-4682-9cc2-fdeead98e648",
   "metadata": {},
   "source": [
    "#### Look at Optuna results"
   ]
  },
  {
   "cell_type": "code",
   "execution_count": null,
   "id": "8c5220a6-06e3-4431-b799-b32987ec85d5",
   "metadata": {},
   "outputs": [],
   "source": [
    "output['study'].trials_dataframe().sort_values(by='value')"
   ]
  }
 ],
 "metadata": {
  "kernelspec": {
   "display_name": "Python 3 (ipykernel)",
   "language": "python",
   "name": "python3"
  },
  "language_info": {
   "codemirror_mode": {
    "name": "ipython",
    "version": 3
   },
   "file_extension": ".py",
   "mimetype": "text/x-python",
   "name": "python",
   "nbconvert_exporter": "python",
   "pygments_lexer": "ipython3",
   "version": "3.9.5"
  }
 },
 "nbformat": 4,
 "nbformat_minor": 5
}
