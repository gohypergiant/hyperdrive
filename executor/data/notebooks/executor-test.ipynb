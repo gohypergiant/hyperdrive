{
 "cells": [
  {
   "cell_type": "code",
   "execution_count": null,
   "id": "06d6453d-b576-4ab4-88e9-4dc43338728a",
   "metadata": {
    "tags": [
     "parameters"
    ]
   },
   "outputs": [],
   "source": [
    "features = None\n",
    "target = None\n",
    "job_name = \"\"\n",
    "study_yaml = None"
   ]
  },
  {
   "cell_type": "code",
   "execution_count": null,
   "id": "480b9b81-acb3-4fae-b33c-05f453281cf6",
   "metadata": {
    "tags": []
   },
   "outputs": [],
   "source": [
    "from datetime import datetime"
   ]
  },
  {
   "cell_type": "code",
   "execution_count": null,
   "id": "be76756d-50ad-4a58-80fc-1a142613d1ba",
   "metadata": {},
   "outputs": [],
   "source": [
    "datetime.now()"
   ]
  },
  {
   "cell_type": "code",
   "execution_count": null,
   "id": "faf2c612-798e-4762-ab40-3e6104a13dbb",
   "metadata": {},
   "outputs": [],
   "source": [
    "import yaml"
   ]
  },
  {
   "cell_type": "code",
   "execution_count": null,
   "id": "72a8d601-ab3b-457a-a62f-14c2df367a04",
   "metadata": {},
   "outputs": [],
   "source": [
    "with open(\"/home/jovyan/_jobs/executor-test/_study.yaml\") as fh:\n",
    "    my_study = yaml.safe_load(fh)"
   ]
  },
  {
   "cell_type": "code",
   "execution_count": null,
   "id": "f15ef9ba-4c99-4c29-9dfa-27168e3e6953",
   "metadata": {},
   "outputs": [],
   "source": [
    "my_study"
   ]
  },
  {
   "cell_type": "code",
   "execution_count": null,
   "id": "fc458634-6865-4cfc-b370-f94e436f5dfb",
   "metadata": {},
   "outputs": [],
   "source": [
    "auto_ml = {\n",
    "    'study_name': 'auto_ml_health_tracker',\n",
    "    'training': {\n",
    "        'data': {\n",
    "            'features': {'source': './data/ht_agg.json','join_id': '_id'},\n",
    "            'target': {'source': './data/users.json','response_variable': 'lifestyle','join_id': '_id'}\n",
    "        }\n",
    "    },\n",
    "    'automl': True\n",
    "\n",
    "}"
   ]
  },
  {
   "cell_type": "code",
   "execution_count": null,
   "id": "edb0f849-f3e7-4212-9525-2216c79e7d72",
   "metadata": {},
   "outputs": [],
   "source": [
    "print(yaml.safe_dump(auto_ml))"
   ]
  },
  {
   "cell_type": "code",
   "execution_count": null,
   "id": "f26b7141-92d6-489c-b694-b3358dd15eaf",
   "metadata": {},
   "outputs": [],
   "source": []
  }
 ],
 "metadata": {
  "kernelspec": {
   "display_name": "Python 3 (ipykernel)",
   "language": "python",
   "name": "python3"
  },
  "language_info": {
   "codemirror_mode": {
    "name": "ipython",
    "version": 3
   },
   "file_extension": ".py",
   "mimetype": "text/x-python",
   "name": "python",
   "nbconvert_exporter": "python",
   "pygments_lexer": "ipython3",
   "version": "3.9.5"
  }
 },
 "nbformat": 4,
 "nbformat_minor": 5
}
